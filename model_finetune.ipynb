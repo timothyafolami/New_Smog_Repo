{
 "cells": [
  {
   "cell_type": "code",
   "execution_count": 1,
   "metadata": {},
   "outputs": [],
   "source": [
    "import torch\n",
    "import torch.nn as nn\n",
    "import torch.optim as optim\n",
    "import joblib\n",
    "import numpy as np\n",
    "import pandas as pd\n",
    "from models import PM10_CNN_LSTM, PM25_CNN_LSTM, carbon_monoxide_CNN_LSTM, nitrogen_dioxide_CNN_LSTM, ozone_CNN_LSTM, sulphur_dioxide_CNN_LSTM, dust_CNN_LSTM"
   ]
  },
  {
   "cell_type": "markdown",
   "metadata": {},
   "source": [
    "## A function for model finetuning"
   ]
  },
  {
   "cell_type": "code",
   "execution_count": 2,
   "metadata": {},
   "outputs": [],
   "source": [
    "# Device configuration\n",
    "device = torch.device(\"cuda\" if torch.cuda.is_available() else \"cpu\")\n",
    "\n",
    "# Load model and scaler function\n",
    "def load_model_and_scaler(pollutant):\n",
    "    model = torch.load(f'{pollutant}_model.pt')\n",
    "    scaler = joblib.load(f'{pollutant}_scaler.pkl')\n",
    "    data = pd.read_csv(f'update_{pollutant}.csv', parse_dates=['date'], index_col='date')\n",
    "    return model, scaler, data\n",
    "\n",
    "# Create sequences function\n",
    "def create_sequences(data, lookback):\n",
    "    X, y = [], []\n",
    "    for i in range(len(data) - lookback):\n",
    "        X.append(data[i:i + lookback])\n",
    "        y.append(data[i + lookback])\n",
    "    return np.array(X), np.array(y)\n",
    "\n",
    "# Fine-tuning function\n",
    "# Fine-tune pollutant model function\n",
    "def fine_tune_pollutant_model(pollutant, lookback=300, epochs=2):\n",
    "\n",
    "    # display the pollutant \n",
    "    print(f'Fine-tuning {pollutant} model')\n",
    "    # Load model, scaler, and new data\n",
    "    model, scaler, data = load_model_and_scaler(pollutant)\n",
    "\n",
    "    new_scaled_data = scaler.transform(data)\n",
    "\n",
    "    # Create sequences from new data\n",
    "    X_new, y_new = create_sequences(new_scaled_data, lookback)\n",
    "    X_new, y_new = torch.tensor(X_new, dtype=torch.float32), torch.tensor(y_new, dtype=torch.float32)\n",
    "\n",
    "    # Move to device\n",
    "    X_new, y_new = X_new.to(device), y_new.to(device)\n",
    "    model = model.to(device)\n",
    "\n",
    "    # Define loss and optimizer\n",
    "    criterion = nn.MSELoss()\n",
    "    optimizer = optim.Adam(model.parameters(), lr=0.001)\n",
    "\n",
    "    # Fine-tune the model\n",
    "    model.train()\n",
    "    for epoch in range(epochs):\n",
    "        for i in range(len(X_new)):\n",
    "            inputs = X_new[i:i+1]\n",
    "            targets = y_new[i:i+1]\n",
    "\n",
    "            # Forward pass\n",
    "            outputs = model(inputs)\n",
    "            loss = criterion(outputs, targets)\n",
    "\n",
    "            # Backward pass and optimization\n",
    "            optimizer.zero_grad()\n",
    "            loss.backward()\n",
    "            optimizer.step()\n",
    "\n",
    "        print(f'Epoch [{epoch + 1}/{epochs}], Loss: {loss.item():.4f}')\n",
    "\n",
    "\n",
    "    # Save the fine-tuned model\n",
    "    torch.save(model, f'{pollutant}_model.pt')\n",
    "\n",
    "# Fine-tune all pollutants function\n",
    "def fine_tune_all_pollutants(lookback=300, epochs=3):\n",
    "    pollutants = ['carbon_monoxide', 'dust', 'nitrogen_dioxide', 'ozone', 'pm_10', 'pm_25', 'sulphur_dioxide']\n",
    "    \n",
    "    for pollutant in pollutants:\n",
    "        fine_tune_pollutant_model(pollutant, lookback, epochs)\n",
    "\n"
   ]
  },
  {
   "cell_type": "code",
   "execution_count": 3,
   "metadata": {},
   "outputs": [
    {
     "name": "stdout",
     "output_type": "stream",
     "text": [
      "Fine-tuning carbon_monoxide model\n",
      "Epoch [1/5], Loss: 0.0017\n",
      "Epoch [2/5], Loss: 0.0011\n",
      "Epoch [3/5], Loss: 0.0009\n",
      "Epoch [4/5], Loss: 0.0006\n",
      "Epoch [5/5], Loss: 0.0005\n",
      "Fine-tuning dust model\n",
      "Epoch [1/5], Loss: 0.0042\n",
      "Epoch [2/5], Loss: 0.0037\n",
      "Epoch [3/5], Loss: 0.0035\n",
      "Epoch [4/5], Loss: 0.0034\n",
      "Epoch [5/5], Loss: 0.0028\n",
      "Fine-tuning nitrogen_dioxide model\n",
      "Epoch [1/5], Loss: 0.0366\n",
      "Epoch [2/5], Loss: 0.0242\n",
      "Epoch [3/5], Loss: 0.0174\n",
      "Epoch [4/5], Loss: 0.0123\n",
      "Epoch [5/5], Loss: 0.0090\n",
      "Fine-tuning ozone model\n",
      "Epoch [1/5], Loss: 0.0159\n",
      "Epoch [2/5], Loss: 0.0113\n",
      "Epoch [3/5], Loss: 0.0071\n",
      "Epoch [4/5], Loss: 0.0047\n",
      "Epoch [5/5], Loss: 0.0034\n",
      "Fine-tuning pm_10 model\n",
      "Epoch [1/5], Loss: 0.0045\n",
      "Epoch [2/5], Loss: 0.0030\n",
      "Epoch [3/5], Loss: 0.0028\n",
      "Epoch [4/5], Loss: 0.0026\n",
      "Epoch [5/5], Loss: 0.0029\n",
      "Fine-tuning pm_25 model\n",
      "Epoch [1/5], Loss: 0.0015\n",
      "Epoch [2/5], Loss: 0.0012\n",
      "Epoch [3/5], Loss: 0.0010\n",
      "Epoch [4/5], Loss: 0.0008\n",
      "Epoch [5/5], Loss: 0.0008\n",
      "Fine-tuning sulphur_dioxide model\n",
      "Epoch [1/5], Loss: 0.0031\n",
      "Epoch [2/5], Loss: 0.0028\n",
      "Epoch [3/5], Loss: 0.0023\n",
      "Epoch [4/5], Loss: 0.0022\n",
      "Epoch [5/5], Loss: 0.0019\n"
     ]
    }
   ],
   "source": [
    "fine_tune_all_pollutants(lookback=300, epochs=5)"
   ]
  },
  {
   "cell_type": "code",
   "execution_count": null,
   "metadata": {},
   "outputs": [],
   "source": []
  },
  {
   "cell_type": "code",
   "execution_count": null,
   "metadata": {},
   "outputs": [],
   "source": []
  },
  {
   "cell_type": "code",
   "execution_count": null,
   "metadata": {},
   "outputs": [],
   "source": []
  },
  {
   "cell_type": "code",
   "execution_count": null,
   "metadata": {},
   "outputs": [],
   "source": []
  },
  {
   "cell_type": "code",
   "execution_count": null,
   "metadata": {},
   "outputs": [],
   "source": []
  },
  {
   "cell_type": "code",
   "execution_count": null,
   "metadata": {},
   "outputs": [],
   "source": []
  },
  {
   "cell_type": "code",
   "execution_count": null,
   "metadata": {},
   "outputs": [],
   "source": []
  },
  {
   "cell_type": "code",
   "execution_count": null,
   "metadata": {},
   "outputs": [],
   "source": []
  },
  {
   "cell_type": "code",
   "execution_count": null,
   "metadata": {},
   "outputs": [],
   "source": []
  },
  {
   "cell_type": "code",
   "execution_count": null,
   "metadata": {},
   "outputs": [],
   "source": []
  },
  {
   "cell_type": "code",
   "execution_count": null,
   "metadata": {},
   "outputs": [],
   "source": []
  },
  {
   "cell_type": "code",
   "execution_count": null,
   "metadata": {},
   "outputs": [],
   "source": []
  },
  {
   "cell_type": "code",
   "execution_count": null,
   "metadata": {},
   "outputs": [],
   "source": []
  },
  {
   "cell_type": "code",
   "execution_count": null,
   "metadata": {},
   "outputs": [],
   "source": []
  },
  {
   "cell_type": "code",
   "execution_count": null,
   "metadata": {},
   "outputs": [],
   "source": []
  }
 ],
 "metadata": {
  "kernelspec": {
   "display_name": "Python 3",
   "language": "python",
   "name": "python3"
  },
  "language_info": {
   "codemirror_mode": {
    "name": "ipython",
    "version": 3
   },
   "file_extension": ".py",
   "mimetype": "text/x-python",
   "name": "python",
   "nbconvert_exporter": "python",
   "pygments_lexer": "ipython3",
   "version": "3.11.9"
  }
 },
 "nbformat": 4,
 "nbformat_minor": 2
}
