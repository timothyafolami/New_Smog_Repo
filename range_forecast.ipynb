{
 "cells": [
  {
   "cell_type": "code",
   "execution_count": 5,
   "metadata": {},
   "outputs": [],
   "source": [
    "import torch\n",
    "import torch.nn as nn\n",
    "import torch.optim as optim\n",
    "import numpy as np\n",
    "import pandas as pd\n",
    "from sklearn.metrics import mean_squared_error, mean_absolute_error, r2_score\n",
    "import joblib\n"
   ]
  },
  {
   "cell_type": "code",
   "execution_count": 18,
   "metadata": {},
   "outputs": [],
   "source": [
    "# Device configuration\n",
    "device = torch.device(\"cuda\" if torch.cuda.is_available() else \"cpu\")\n",
    "\n",
    "# Load model and scaler\n",
    "def load_model_and_scaler(pollutant):\n",
    "    model = torch.load(f'{pollutant}_model.pt')\n",
    "    scaler = joblib.load(f'{pollutant}_scaler.pkl')\n",
    "    data = pd.read_csv(f'update_{pollutant}.csv', parse_dates=['date'], index_col='date')\n",
    "    return model, scaler, data\n",
    "\n",
    "# Create sequences\n",
    "def create_sequences(data, lookback):\n",
    "    X, y = [], []\n",
    "    for i in range(len(data) - lookback):\n",
    "        X.append(data[i:i + lookback])\n",
    "        y.append(data[i + lookback])\n",
    "    return np.array(X), np.array(y)\n",
    "\n",
    "# Evaluate the model\n",
    "def evaluate_model(model, scaler, data, lookback):\n",
    "    scaled_data = scaler.transform(data)\n",
    "    X, y = create_sequences(scaled_data, lookback)\n",
    "    X = torch.tensor(X, dtype=torch.float32).to(device)\n",
    "    y = torch.tensor(y, dtype=torch.float32).to(device)\n",
    "\n",
    "    model.eval()\n",
    "    with torch.no_grad():\n",
    "        predictions = model(X).cpu().numpy()\n",
    "        actuals = y.cpu().numpy()\n",
    "\n",
    "    # Inverse transform the predictions and actuals\n",
    "    predictions = scaler.inverse_transform(predictions)\n",
    "    actuals = scaler.inverse_transform(actuals)\n",
    "    \n",
    "    return predictions, actuals\n",
    "\n",
    "# Calculate metrics and confidence intervals\n",
    "def calculate_metrics_and_intervals(predictions, actuals):\n",
    "    mae = mean_absolute_error(actuals, predictions)\n",
    "    rmse = np.sqrt(mean_squared_error(actuals, predictions))\n",
    "\n",
    "    errors = actuals - predictions\n",
    "    std_error = np.std(errors)\n",
    "    confidence_interval = 1.96 * std_error  # For a 95% confidence interval\n",
    "\n",
    "    lower_bound = predictions - confidence_interval\n",
    "    upper_bound = predictions + confidence_interval\n",
    "\n",
    "    return mae, rmse, lower_bound, upper_bound\n",
    "\n",
    "# Example usage\n",
    "pollutant = 'pm_25'\n",
    "lookback = 300\n",
    "\n",
    "model, scaler, data = load_model_and_scaler(pollutant)\n",
    "predictions, actuals = evaluate_model(model, scaler, data, lookback)\n",
    "mae, rmse, lower_bound, upper_bound = calculate_metrics_and_intervals(predictions, actuals)\n"
   ]
  },
  {
   "cell_type": "code",
   "execution_count": 19,
   "metadata": {},
   "outputs": [
    {
     "data": {
      "text/plain": [
       "(9.189803,\n",
       " 11.71997,\n",
       " array([[ 1.1814861 ,  8.393164  ,  9.895233  , ..., 14.190485  ,\n",
       "         -4.6796303 , -1.7536011 ],\n",
       "        [ 0.46565247, 10.562025  ,  9.67037   , ..., 13.262289  ,\n",
       "         -5.239086  , -2.3534966 ],\n",
       "        [ 0.16532707, 11.940012  , 11.019636  , ..., 14.328894  ,\n",
       "         -5.3362865 , -2.522295  ],\n",
       "        ...,\n",
       "        [ 2.0409431 ,  9.337057  , 17.74352   , ..., 21.87546   ,\n",
       "         -3.8114548 , -0.49840355],\n",
       "        [ 2.1020374 ,  9.013674  , 17.788866  , ..., 22.161139  ,\n",
       "         -3.7103481 , -0.41780663],\n",
       "        [ 2.2454014 ,  8.865772  , 18.197317  , ..., 22.756815  ,\n",
       "         -3.5912514 , -0.34357643]], dtype=float32),\n",
       " array([[44.026924, 51.2386  , 52.740673, ..., 57.035927, 38.16581 ,\n",
       "         41.09184 ],\n",
       "        [43.311092, 53.407463, 52.51581 , ..., 56.107727, 37.606354,\n",
       "         40.491943],\n",
       "        [43.010765, 54.785454, 53.865074, ..., 57.17433 , 37.509155,\n",
       "         40.323143],\n",
       "        ...,\n",
       "        [44.886383, 52.182495, 60.58896 , ..., 64.7209  , 39.033985,\n",
       "         42.34704 ],\n",
       "        [44.94748 , 51.859116, 60.634308, ..., 65.00658 , 39.135094,\n",
       "         42.427635],\n",
       "        [45.090843, 51.711212, 61.042755, ..., 65.60226 , 39.25419 ,\n",
       "         42.50186 ]], dtype=float32))"
      ]
     },
     "execution_count": 19,
     "metadata": {},
     "output_type": "execute_result"
    }
   ],
   "source": [
    "mae, rmse, lower_bound, upper_bound "
   ]
  },
  {
   "cell_type": "code",
   "execution_count": 20,
   "metadata": {},
   "outputs": [
    {
     "data": {
      "text/plain": [
       "(array([[22.604206, 29.815884, 31.317953, ..., 35.613205, 16.74309 ,\n",
       "         19.669119],\n",
       "        [21.888372, 31.984745, 31.09309 , ..., 34.68501 , 16.183634,\n",
       "         19.069223],\n",
       "        [21.588047, 33.362732, 32.442356, ..., 35.751614, 16.086433,\n",
       "         18.900425],\n",
       "        ...,\n",
       "        [23.463663, 30.759777, 39.16624 , ..., 43.29818 , 17.611265,\n",
       "         20.924316],\n",
       "        [23.524757, 30.436394, 39.211586, ..., 43.58386 , 17.712372,\n",
       "         21.004913],\n",
       "        [23.668121, 30.288492, 39.620037, ..., 44.179535, 17.831469,\n",
       "         21.079144]], dtype=float32),\n",
       " array([[14.5     , 12.8     , 15.8     , ..., 19.3     , 15.3     ,\n",
       "         15.8     ],\n",
       "        [14.299999, 19.      , 18.999998, ..., 23.800001, 15.400001,\n",
       "         16.1     ],\n",
       "        [14.5     , 26.      , 23.599998, ..., 32.5     , 16.7     ,\n",
       "         17.300001],\n",
       "        ...,\n",
       "        [21.8     , 26.      , 44.399998, ..., 62.400005, 16.2     ,\n",
       "         24.9     ],\n",
       "        [20.5     , 25.5     , 44.5     , ..., 57.600002, 17.      ,\n",
       "         24.6     ],\n",
       "        [19.599998, 24.300001, 46.199997, ..., 54.      , 17.5     ,\n",
       "         24.000002]], dtype=float32))"
      ]
     },
     "execution_count": 20,
     "metadata": {},
     "output_type": "execute_result"
    }
   ],
   "source": [
    "predictions, actuals"
   ]
  },
  {
   "cell_type": "code",
   "execution_count": null,
   "metadata": {},
   "outputs": [],
   "source": []
  },
  {
   "cell_type": "markdown",
   "metadata": {},
   "source": [
    "## New expriment"
   ]
  },
  {
   "cell_type": "code",
   "execution_count": 20,
   "metadata": {},
   "outputs": [],
   "source": [
    "import matplotlib.pyplot as plt\n",
    "\n",
    "def create_aqi_legend():\n",
    "    # Define the AQI ranges and their corresponding colors\n",
    "    aqi_categories = ['Good', 'Moderate', 'Unhealthy for sensitive groups', 'Unhealthy', 'Very Unhealthy', 'Hazardous']\n",
    "    colors = ['#00E400', '#FFFF00', '#FF7E00', '#FF0000', '#8F3F97', '#7E0023']\n",
    "\n",
    "    # Create the figure and axis\n",
    "    fig, ax = plt.subplots(figsize=(25, 2))\n",
    "    ax.set_xlim(0, len(aqi_categories))\n",
    "    ax.set_ylim(0, 2)\n",
    "    ax.axis('off')  # Turn off the axis\n",
    "\n",
    "    # Plot each AQI category with its color and name\n",
    "    for i, (category, color) in enumerate(zip(aqi_categories, colors)):\n",
    "        ax.add_patch(plt.Rectangle((i, 0), 1, 1, color=color))\n",
    "        ax.text(i + 0.5, 1.5, category, color='black', ha='center', va='center', fontsize=9)\n",
    "\n",
    "    return fig\n"
   ]
  },
  {
   "cell_type": "code",
   "execution_count": 21,
   "metadata": {},
   "outputs": [
    {
     "data": {
      "image/png": "[encoded data removed]",
      "text/plain": [
       "<Figure size 2500x200 with 1 Axes>"
      ]
     },
     "metadata": {},
     "output_type": "display_data"
    }
   ],
   "source": [
    "plot = create_aqi_legend()"
   ]
  },
  {
   "cell_type": "code",
   "execution_count": 22,
   "metadata": {},
   "outputs": [
    {
     "data": {
      "image/png": "[encoded data removed]",
      "text/plain": [
       "<Figure size 2500x200 with 1 Axes>"
      ]
     },
     "execution_count": 22,
     "metadata": {},
     "output_type": "execute_result"
    }
   ],
   "source": [
    "plot"
   ]
  },
  {
   "cell_type": "code",
   "execution_count": 1,
   "metadata": {},
   "outputs": [],
   "source": [
    "import pandas as pd\n",
    "\n",
    "def aggregate_pollutants(initial_time, district):\n",
    "    forecasted_df = pd.read_csv('../New_data/forecasted_pollutant.csv')\n",
    "    # replacing unnamed column with date\n",
    "    forecasted_df = forecasted_df.rename(columns={'Unnamed: 0': 'date'})\n",
    "    # setting the date column as index\n",
    "    forecasted_df = forecasted_df.set_index('date')\n",
    "    # converting the index to datetime\n",
    "    forecasted_df.index = pd.to_datetime(forecasted_df.index)\n",
    "    # Parse the initial time\n",
    "    initial_time = pd.to_datetime(initial_time)\n",
    "    final_time = initial_time + pd.Timedelta(days=14)\n",
    "\n",
    "    # Filter the DataFrame for the specified district and time range\n",
    "    filtered_df = forecasted_df[(forecasted_df.index >= initial_time) & (forecasted_df.index <= final_time) & (forecasted_df['district'] == district)]\n",
    "\n",
    "    # Select only numeric columns for aggregation\n",
    "    numeric_columns = filtered_df.select_dtypes(include=['float64', 'int64']).columns\n",
    "\n",
    "    # Group by hour and aggregate pollutants\n",
    "    aggregated_df = filtered_df[numeric_columns].resample('H').mean()\n",
    "    \n",
    "    return aggregated_df.drop(columns=['location_id'])"
   ]
  },
  {
   "cell_type": "code",
   "execution_count": 2,
   "metadata": {},
   "outputs": [],
   "source": [
    "time = '2024-05-21 00:00:00'"
   ]
  },
  {
   "cell_type": "code",
   "execution_count": 3,
   "metadata": {},
   "outputs": [
    {
     "name": "stderr",
     "output_type": "stream",
     "text": [
      "C:\\Users\\timmy\\AppData\\Local\\Temp\\ipykernel_23872\\400240702.py:22: FutureWarning: 'H' is deprecated and will be removed in a future version, please use 'h' instead.\n",
      "  aggregated_df = filtered_df[numeric_columns].resample('H').mean()\n"
     ]
    }
   ],
   "source": [
    "df = aggregate_pollutants(time, 'Lahore')"
   ]
  },
  {
   "cell_type": "code",
   "execution_count": 4,
   "metadata": {},
   "outputs": [
    {
     "data": {
      "text/html": [
       "<div>\n",
       "<style scoped>\n",
       "    .dataframe tbody tr th:only-of-type {\n",
       "        vertical-align: middle;\n",
       "    }\n",
       "\n",
       "    .dataframe tbody tr th {\n",
       "        vertical-align: top;\n",
       "    }\n",
       "\n",
       "    .dataframe thead th {\n",
       "        text-align: right;\n",
       "    }\n",
       "</style>\n",
       "<table border=\"1\" class=\"dataframe\">\n",
       "  <thead>\n",
       "    <tr style=\"text-align: right;\">\n",
       "      <th></th>\n",
       "      <th>carbon_monoxide</th>\n",
       "      <th>dust</th>\n",
       "      <th>nitrogen_dioxide</th>\n",
       "      <th>ozone</th>\n",
       "      <th>pm_10</th>\n",
       "      <th>pm_25</th>\n",
       "      <th>sulphur_dioxide</th>\n",
       "      <th>AQI</th>\n",
       "    </tr>\n",
       "    <tr>\n",
       "      <th>date</th>\n",
       "      <th></th>\n",
       "      <th></th>\n",
       "      <th></th>\n",
       "      <th></th>\n",
       "      <th></th>\n",
       "      <th></th>\n",
       "      <th></th>\n",
       "      <th></th>\n",
       "    </tr>\n",
       "  </thead>\n",
       "  <tbody>\n",
       "    <tr>\n",
       "      <th>2024-05-26 00:00:00</th>\n",
       "      <td>761.787917</td>\n",
       "      <td>72.299388</td>\n",
       "      <td>13.161848</td>\n",
       "      <td>48.373929</td>\n",
       "      <td>75.781680</td>\n",
       "      <td>20.455136</td>\n",
       "      <td>7.816162</td>\n",
       "      <td>111.446245</td>\n",
       "    </tr>\n",
       "    <tr>\n",
       "      <th>2024-05-26 01:00:00</th>\n",
       "      <td>753.582367</td>\n",
       "      <td>77.772163</td>\n",
       "      <td>14.493818</td>\n",
       "      <td>77.243747</td>\n",
       "      <td>75.110743</td>\n",
       "      <td>20.747499</td>\n",
       "      <td>8.036398</td>\n",
       "      <td>113.913493</td>\n",
       "    </tr>\n",
       "    <tr>\n",
       "      <th>2024-05-26 02:00:00</th>\n",
       "      <td>728.844233</td>\n",
       "      <td>79.817886</td>\n",
       "      <td>14.398233</td>\n",
       "      <td>138.713533</td>\n",
       "      <td>74.008538</td>\n",
       "      <td>20.722864</td>\n",
       "      <td>8.269459</td>\n",
       "      <td>117.416199</td>\n",
       "    </tr>\n",
       "    <tr>\n",
       "      <th>2024-05-26 03:00:00</th>\n",
       "      <td>688.312900</td>\n",
       "      <td>79.918283</td>\n",
       "      <td>14.215354</td>\n",
       "      <td>208.473923</td>\n",
       "      <td>73.600816</td>\n",
       "      <td>21.253121</td>\n",
       "      <td>8.417781</td>\n",
       "      <td>120.362158</td>\n",
       "    </tr>\n",
       "    <tr>\n",
       "      <th>2024-05-26 04:00:00</th>\n",
       "      <td>636.723023</td>\n",
       "      <td>79.584575</td>\n",
       "      <td>13.537659</td>\n",
       "      <td>230.460973</td>\n",
       "      <td>73.531460</td>\n",
       "      <td>21.194068</td>\n",
       "      <td>8.554648</td>\n",
       "      <td>117.265124</td>\n",
       "    </tr>\n",
       "    <tr>\n",
       "      <th>...</th>\n",
       "      <td>...</td>\n",
       "      <td>...</td>\n",
       "      <td>...</td>\n",
       "      <td>...</td>\n",
       "      <td>...</td>\n",
       "      <td>...</td>\n",
       "      <td>...</td>\n",
       "      <td>...</td>\n",
       "    </tr>\n",
       "    <tr>\n",
       "      <th>2024-06-03 20:00:00</th>\n",
       "      <td>814.286567</td>\n",
       "      <td>80.026595</td>\n",
       "      <td>18.428794</td>\n",
       "      <td>190.632977</td>\n",
       "      <td>73.832619</td>\n",
       "      <td>20.555994</td>\n",
       "      <td>8.468561</td>\n",
       "      <td>131.701617</td>\n",
       "    </tr>\n",
       "    <tr>\n",
       "      <th>2024-06-03 21:00:00</th>\n",
       "      <td>851.061900</td>\n",
       "      <td>80.026595</td>\n",
       "      <td>18.428791</td>\n",
       "      <td>167.138140</td>\n",
       "      <td>73.832619</td>\n",
       "      <td>20.555991</td>\n",
       "      <td>8.468561</td>\n",
       "      <td>133.029669</td>\n",
       "    </tr>\n",
       "    <tr>\n",
       "      <th>2024-06-03 22:00:00</th>\n",
       "      <td>873.358490</td>\n",
       "      <td>80.026595</td>\n",
       "      <td>18.428793</td>\n",
       "      <td>137.318200</td>\n",
       "      <td>73.832619</td>\n",
       "      <td>20.555991</td>\n",
       "      <td>8.468561</td>\n",
       "      <td>132.277327</td>\n",
       "    </tr>\n",
       "    <tr>\n",
       "      <th>2024-06-03 23:00:00</th>\n",
       "      <td>880.051670</td>\n",
       "      <td>80.026593</td>\n",
       "      <td>18.428792</td>\n",
       "      <td>92.692115</td>\n",
       "      <td>73.832619</td>\n",
       "      <td>20.555990</td>\n",
       "      <td>8.468561</td>\n",
       "      <td>128.484043</td>\n",
       "    </tr>\n",
       "    <tr>\n",
       "      <th>2024-06-04 00:00:00</th>\n",
       "      <td>871.446127</td>\n",
       "      <td>80.026595</td>\n",
       "      <td>18.428792</td>\n",
       "      <td>43.048165</td>\n",
       "      <td>73.832619</td>\n",
       "      <td>20.555989</td>\n",
       "      <td>8.468561</td>\n",
       "      <td>122.659088</td>\n",
       "    </tr>\n",
       "  </tbody>\n",
       "</table>\n",
       "<p>217 rows × 8 columns</p>\n",
       "</div>"
      ],
      "text/plain": [
       "                     carbon_monoxide       dust  nitrogen_dioxide       ozone  \\\n",
       "date                                                                            \n",
       "2024-05-26 00:00:00       761.787917  72.299388         13.161848   48.373929   \n",
       "2024-05-26 01:00:00       753.582367  77.772163         14.493818   77.243747   \n",
       "2024-05-26 02:00:00       728.844233  79.817886         14.398233  138.713533   \n",
       "2024-05-26 03:00:00       688.312900  79.918283         14.215354  208.473923   \n",
       "2024-05-26 04:00:00       636.723023  79.584575         13.537659  230.460973   \n",
       "...                              ...        ...               ...         ...   \n",
       "2024-06-03 20:00:00       814.286567  80.026595         18.428794  190.632977   \n",
       "2024-06-03 21:00:00       851.061900  80.026595         18.428791  167.138140   \n",
       "2024-06-03 22:00:00       873.358490  80.026595         18.428793  137.318200   \n",
       "2024-06-03 23:00:00       880.051670  80.026593         18.428792   92.692115   \n",
       "2024-06-04 00:00:00       871.446127  80.026595         18.428792   43.048165   \n",
       "\n",
       "                         pm_10      pm_25  sulphur_dioxide         AQI  \n",
       "date                                                                    \n",
       "2024-05-26 00:00:00  75.781680  20.455136         7.816162  111.446245  \n",
       "2024-05-26 01:00:00  75.110743  20.747499         8.036398  113.913493  \n",
       "2024-05-26 02:00:00  74.008538  20.722864         8.269459  117.416199  \n",
       "2024-05-26 03:00:00  73.600816  21.253121         8.417781  120.362158  \n",
       "2024-05-26 04:00:00  73.531460  21.194068         8.554648  117.265124  \n",
       "...                        ...        ...              ...         ...  \n",
       "2024-06-03 20:00:00  73.832619  20.555994         8.468561  131.701617  \n",
       "2024-06-03 21:00:00  73.832619  20.555991         8.468561  133.029669  \n",
       "2024-06-03 22:00:00  73.832619  20.555991         8.468561  132.277327  \n",
       "2024-06-03 23:00:00  73.832619  20.555990         8.468561  128.484043  \n",
       "2024-06-04 00:00:00  73.832619  20.555989         8.468561  122.659088  \n",
       "\n",
       "[217 rows x 8 columns]"
      ]
     },
     "execution_count": 4,
     "metadata": {},
     "output_type": "execute_result"
    }
   ],
   "source": [
    "df"
   ]
  },
  {
   "cell_type": "code",
   "execution_count": 27,
   "metadata": {},
   "outputs": [],
   "source": [
    "import pandas as pd\n",
    "import plotly.graph_objects as go\n",
    "import streamlit as st\n",
    "\n",
    "# Function to convert AQI to color\n",
    "def aqi_to_color(aqi):\n",
    "    if aqi <= 50:\n",
    "        return '#00E400'  # Good\n",
    "    elif aqi <= 100:\n",
    "        return '#FFFF00'  # Moderate\n",
    "    elif aqi <= 150:\n",
    "        return '#FF7E00'  # Unhealthy for sensitive groups\n",
    "    elif aqi <= 200:\n",
    "        return '#FF0000'  # Unhealthy\n",
    "    elif aqi <= 300:\n",
    "        return '#8F3F97'  # Very Unhealthy\n",
    "    else:\n",
    "        return '#7E0023'  # Hazardous\n",
    "\n",
    "# Function to create the Plotly plot\n",
    "def plot_aqi_histogram(df):\n",
    "    # Ensure the 'AQI' column exists in the DataFrame\n",
    "    if 'AQI' not in df.columns:\n",
    "        raise ValueError(\"The DataFrame must contain an 'AQI' column.\")\n",
    "\n",
    "    # Create the figure\n",
    "    fig = go.Figure()\n",
    "\n",
    "    # Add bars to the plot\n",
    "    for i in range(len(df)):\n",
    "        fig.add_trace(go.Bar(\n",
    "            x=[df.index[i]],\n",
    "            y=[df['AQI'].iloc[i]],\n",
    "            marker_color=aqi_to_color(df['AQI'].iloc[i]),\n",
    "            width=1000000,  \n",
    "        ))\n",
    "\n",
    "    # Set layout properties\n",
    "    fig.update_layout(\n",
    "        title='AQI Over Time',\n",
    "        xaxis_title='Date and Time',\n",
    "        yaxis_title='AQI',\n",
    "        xaxis_tickformat='%d %b, %I %p',\n",
    "        bargap=1  # Remove gaps between bars\n",
    "    )\n",
    "\n",
    "    return fig\n"
   ]
  },
  {
   "cell_type": "code",
   "execution_count": 28,
   "metadata": {},
   "outputs": [],
   "source": [
    "plot = plot_aqi_histogram(df.iloc[:48])"
   ]
  },
  {
   "cell_type": "code",
   "execution_count": 29,
   "metadata": {},
   "outputs": [
    {
     "data": {
      "application/vnd.plotly.v1+json": {
       "config": {
        "plotlyServerURL": "https://plot.ly"
       },
       "data": [
        {
         "marker": {
          "color": "#FF7E00"
         },
         "type": "bar",
         "width": 1000000,
         "x": [
          "2024-05-26T00:00:00"
         ],
         "y": [
          111.44624533333335
         ]
        },
        {
         "marker": {
          "color": "#FF7E00"
         },
         "type": "bar",
         "width": 1000000,
         "x": [
          "2024-05-26T01:00:00"
         ],
         "y": [
          113.91349333333334
         ]
        },
        {
         "marker": {
          "color": "#FF7E00"
         },
         "type": "bar",
         "width": 1000000,
         "x": [
          "2024-05-26T02:00:00"
         ],
         "y": [
          117.41619866666667
         ]
        },
        {
         "marker": {
          "color": "#FF7E00"
         },
         "type": "bar",
         "width": 1000000,
         "x": [
          "2024-05-26T03:00:00"
         ],
         "y": [
          120.36215833333334
         ]
        },
        {
         "marker": {
          "color": "#FF7E00"
         },
         "type": "bar",
         "width": 1000000,
         "x": [
          "2024-05-26T04:00:00"
         ],
         "y": [
          117.26512366666667
         ]
        },
        {
         "marker": {
          "color": "#FF7E00"
         },
         "type": "bar",
         "width": 1000000,
         "x": [
          "2024-05-26T05:00:00"
         ],
         "y": [
          110.93846666666667
         ]
        },
        {
         "marker": {
          "color": "#FF7E00"
         },
         "type": "bar",
         "width": 1000000,
         "x": [
          "2024-05-26T06:00:00"
         ],
         "y": [
          103.110208
         ]
        },
        {
         "marker": {
          "color": "#FFFF00"
         },
         "type": "bar",
         "width": 1000000,
         "x": [
          "2024-05-26T07:00:00"
         ],
         "y": [
          95.03625
         ]
        },
        {
         "marker": {
          "color": "#FFFF00"
         },
         "type": "bar",
         "width": 1000000,
         "x": [
          "2024-05-26T08:00:00"
         ],
         "y": [
          86.50612833333332
         ]
        },
        {
         "marker": {
          "color": "#FFFF00"
         },
         "type": "bar",
         "width": 1000000,
         "x": [
          "2024-05-26T09:00:00"
         ],
         "y": [
          77.88824833333332
         ]
        },
        {
         "marker": {
          "color": "#FFFF00"
         },
         "type": "bar",
         "width": 1000000,
         "x": [
          "2024-05-26T10:00:00"
         ],
         "y": [
          67.68229166666667
         ]
        },
        {
         "marker": {
          "color": "#FFFF00"
         },
         "type": "bar",
         "width": 1000000,
         "x": [
          "2024-05-26T11:00:00"
         ],
         "y": [
          60.187892000000005
         ]
        },
        {
         "marker": {
          "color": "#FFFF00"
         },
         "type": "bar",
         "width": 1000000,
         "x": [
          "2024-05-26T12:00:00"
         ],
         "y": [
          56.73059466666666
         ]
        },
        {
         "marker": {
          "color": "#FFFF00"
         },
         "type": "bar",
         "width": 1000000,
         "x": [
          "2024-05-26T13:00:00"
         ],
         "y": [
          56.75356133333333
         ]
        },
        {
         "marker": {
          "color": "#FFFF00"
         },
         "type": "bar",
         "width": 1000000,
         "x": [
          "2024-05-26T14:00:00"
         ],
         "y": [
          58.97951633333333
         ]
        },
        {
         "marker": {
          "color": "#FFFF00"
         },
         "type": "bar",
         "width": 1000000,
         "x": [
          "2024-05-26T15:00:00"
         ],
         "y": [
          64.54469533333334
         ]
        },
        {
         "marker": {
          "color": "#FFFF00"
         },
         "type": "bar",
         "width": 1000000,
         "x": [
          "2024-05-26T16:00:00"
         ],
         "y": [
          73.02967466666666
         ]
        },
        {
         "marker": {
          "color": "#FFFF00"
         },
         "type": "bar",
         "width": 1000000,
         "x": [
          "2024-05-26T17:00:00"
         ],
         "y": [
          85.89537866666667
         ]
        },
        {
         "marker": {
          "color": "#FF7E00"
         },
         "type": "bar",
         "width": 1000000,
         "x": [
          "2024-05-26T18:00:00"
         ],
         "y": [
          100.02671833333333
         ]
        },
        {
         "marker": {
          "color": "#FF7E00"
         },
         "type": "bar",
         "width": 1000000,
         "x": [
          "2024-05-26T19:00:00"
         ],
         "y": [
          110.20751333333334
         ]
        },
        {
         "marker": {
          "color": "#FF7E00"
         },
         "type": "bar",
         "width": 1000000,
         "x": [
          "2024-05-26T20:00:00"
         ],
         "y": [
          117.68363
         ]
        },
        {
         "marker": {
          "color": "#FF7E00"
         },
         "type": "bar",
         "width": 1000000,
         "x": [
          "2024-05-26T21:00:00"
         ],
         "y": [
          123.08818666666667
         ]
        },
        {
         "marker": {
          "color": "#FF7E00"
         },
         "type": "bar",
         "width": 1000000,
         "x": [
          "2024-05-26T22:00:00"
         ],
         "y": [
          126.433132
         ]
        },
        {
         "marker": {
          "color": "#FF7E00"
         },
         "type": "bar",
         "width": 1000000,
         "x": [
          "2024-05-26T23:00:00"
         ],
         "y": [
          127.66876333333335
         ]
        },
        {
         "marker": {
          "color": "#FF7E00"
         },
         "type": "bar",
         "width": 1000000,
         "x": [
          "2024-05-27T00:00:00"
         ],
         "y": [
          126.20358333333333
         ]
        },
        {
         "marker": {
          "color": "#FF7E00"
         },
         "type": "bar",
         "width": 1000000,
         "x": [
          "2024-05-27T01:00:00"
         ],
         "y": [
          121.79028833333332
         ]
        },
        {
         "marker": {
          "color": "#FF7E00"
         },
         "type": "bar",
         "width": 1000000,
         "x": [
          "2024-05-27T02:00:00"
         ],
         "y": [
          118.47095333333334
         ]
        },
        {
         "marker": {
          "color": "#FF7E00"
         },
         "type": "bar",
         "width": 1000000,
         "x": [
          "2024-05-27T03:00:00"
         ],
         "y": [
          116.20539333333333
         ]
        },
        {
         "marker": {
          "color": "#FF7E00"
         },
         "type": "bar",
         "width": 1000000,
         "x": [
          "2024-05-27T04:00:00"
         ],
         "y": [
          113.78985666666667
         ]
        },
        {
         "marker": {
          "color": "#FF7E00"
         },
         "type": "bar",
         "width": 1000000,
         "x": [
          "2024-05-27T05:00:00"
         ],
         "y": [
          111.18028833333334
         ]
        },
        {
         "marker": {
          "color": "#FF7E00"
         },
         "type": "bar",
         "width": 1000000,
         "x": [
          "2024-05-27T06:00:00"
         ],
         "y": [
          108.83971133333334
         ]
        },
        {
         "marker": {
          "color": "#FF7E00"
         },
         "type": "bar",
         "width": 1000000,
         "x": [
          "2024-05-27T07:00:00"
         ],
         "y": [
          107.05864666666666
         ]
        },
        {
         "marker": {
          "color": "#FF7E00"
         },
         "type": "bar",
         "width": 1000000,
         "x": [
          "2024-05-27T08:00:00"
         ],
         "y": [
          106.96766000000001
         ]
        },
        {
         "marker": {
          "color": "#FF7E00"
         },
         "type": "bar",
         "width": 1000000,
         "x": [
          "2024-05-27T09:00:00"
         ],
         "y": [
          104.03777533333334
         ]
        },
        {
         "marker": {
          "color": "#FFFF00"
         },
         "type": "bar",
         "width": 1000000,
         "x": [
          "2024-05-27T10:00:00"
         ],
         "y": [
          96.99607333333334
         ]
        },
        {
         "marker": {
          "color": "#FFFF00"
         },
         "type": "bar",
         "width": 1000000,
         "x": [
          "2024-05-27T11:00:00"
         ],
         "y": [
          89.06918333333333
         ]
        },
        {
         "marker": {
          "color": "#FFFF00"
         },
         "type": "bar",
         "width": 1000000,
         "x": [
          "2024-05-27T12:00:00"
         ],
         "y": [
          80.87115466666667
         ]
        },
        {
         "marker": {
          "color": "#FFFF00"
         },
         "type": "bar",
         "width": 1000000,
         "x": [
          "2024-05-27T13:00:00"
         ],
         "y": [
          72.99291866666665
         ]
        },
        {
         "marker": {
          "color": "#FFFF00"
         },
         "type": "bar",
         "width": 1000000,
         "x": [
          "2024-05-27T14:00:00"
         ],
         "y": [
          66.26457666666667
         ]
        },
        {
         "marker": {
          "color": "#FFFF00"
         },
         "type": "bar",
         "width": 1000000,
         "x": [
          "2024-05-27T15:00:00"
         ],
         "y": [
          59.87668633333334
         ]
        },
        {
         "marker": {
          "color": "#FFFF00"
         },
         "type": "bar",
         "width": 1000000,
         "x": [
          "2024-05-27T16:00:00"
         ],
         "y": [
          55.15710166666667
         ]
        },
        {
         "marker": {
          "color": "#FFFF00"
         },
         "type": "bar",
         "width": 1000000,
         "x": [
          "2024-05-27T17:00:00"
         ],
         "y": [
          54.83351733333333
         ]
        },
        {
         "marker": {
          "color": "#FFFF00"
         },
         "type": "bar",
         "width": 1000000,
         "x": [
          "2024-05-27T18:00:00"
         ],
         "y": [
          58.46892833333334
         ]
        },
        {
         "marker": {
          "color": "#FFFF00"
         },
         "type": "bar",
         "width": 1000000,
         "x": [
          "2024-05-27T19:00:00"
         ],
         "y": [
          64.93661666666667
         ]
        },
        {
         "marker": {
          "color": "#FFFF00"
         },
         "type": "bar",
         "width": 1000000,
         "x": [
          "2024-05-27T20:00:00"
         ],
         "y": [
          74.754772
         ]
        },
        {
         "marker": {
          "color": "#FFFF00"
         },
         "type": "bar",
         "width": 1000000,
         "x": [
          "2024-05-27T21:00:00"
         ],
         "y": [
          87.59937866666667
         ]
        },
        {
         "marker": {
          "color": "#FF7E00"
         },
         "type": "bar",
         "width": 1000000,
         "x": [
          "2024-05-27T22:00:00"
         ],
         "y": [
          102.75646166666667
         ]
        },
        {
         "marker": {
          "color": "#FF7E00"
         },
         "type": "bar",
         "width": 1000000,
         "x": [
          "2024-05-27T23:00:00"
         ],
         "y": [
          118.14741666666667
         ]
        }
       ],
       "layout": {
        "bargap": 1,
        "template": {
         "data": {
          "candlestick": [
           {
            "decreasing": {
             "line": {
              "color": "#000033"
             }
            },
            "increasing": {
             "line": {
              "color": "#000032"
             }
            },
            "type": "candlestick"
           }
          ],
          "contour": [
           {
            "colorscale": [
             [
              0,
              "#000011"
             ],
             [
              0.1111111111111111,
              "#000012"
             ],
             [
              0.2222222222222222,
              "#000013"
             ],
             [
              0.3333333333333333,
              "#000014"
             ],
             [
              0.4444444444444444,
              "#000015"
             ],
             [
              0.5555555555555556,
              "#000016"
             ],
             [
              0.6666666666666666,
              "#000017"
             ],
             [
              0.7777777777777778,
              "#000018"
             ],
             [
              0.8888888888888888,
              "#000019"
             ],
             [
              1,
              "#000020"
             ]
            ],
            "type": "contour"
           }
          ],
          "contourcarpet": [
           {
            "colorscale": [
             [
              0,
              "#000011"
             ],
             [
              0.1111111111111111,
              "#000012"
             ],
             [
              0.2222222222222222,
              "#000013"
             ],
             [
              0.3333333333333333,
              "#000014"
             ],
             [
              0.4444444444444444,
              "#000015"
             ],
             [
              0.5555555555555556,
              "#000016"
             ],
             [
              0.6666666666666666,
              "#000017"
             ],
             [
              0.7777777777777778,
              "#000018"
             ],
             [
              0.8888888888888888,
              "#000019"
             ],
             [
              1,
              "#000020"
             ]
            ],
            "type": "contourcarpet"
           }
          ],
          "heatmap": [
           {
            "colorscale": [
             [
              0,
              "#000011"
             ],
             [
              0.1111111111111111,
              "#000012"
             ],
             [
              0.2222222222222222,
              "#000013"
             ],
             [
              0.3333333333333333,
              "#000014"
             ],
             [
              0.4444444444444444,
              "#000015"
             ],
             [
              0.5555555555555556,
              "#000016"
             ],
             [
              0.6666666666666666,
              "#000017"
             ],
             [
              0.7777777777777778,
              "#000018"
             ],
             [
              0.8888888888888888,
              "#000019"
             ],
             [
              1,
              "#000020"
             ]
            ],
            "type": "heatmap"
           }
          ],
          "histogram2d": [
           {
            "colorscale": [
             [
              0,
              "#000011"
             ],
             [
              0.1111111111111111,
              "#000012"
             ],
             [
              0.2222222222222222,
              "#000013"
             ],
             [
              0.3333333333333333,
              "#000014"
             ],
             [
              0.4444444444444444,
              "#000015"
             ],
             [
              0.5555555555555556,
              "#000016"
             ],
             [
              0.6666666666666666,
              "#000017"
             ],
             [
              0.7777777777777778,
              "#000018"
             ],
             [
              0.8888888888888888,
              "#000019"
             ],
             [
              1,
              "#000020"
             ]
            ],
            "type": "histogram2d"
           }
          ],
          "icicle": [
           {
            "textfont": {
             "color": "white"
            },
            "type": "icicle"
           }
          ],
          "sankey": [
           {
            "textfont": {
             "color": "#000036"
            },
            "type": "sankey"
           }
          ],
          "scatter": [
           {
            "marker": {
             "line": {
              "width": 0
             }
            },
            "type": "scatter"
           }
          ],
          "table": [
           {
            "cells": {
             "fill": {
              "color": "#000038"
             },
             "font": {
              "color": "#000037"
             },
             "line": {
              "color": "#000039"
             }
            },
            "header": {
             "fill": {
              "color": "#000040"
             },
             "font": {
              "color": "#000036"
             },
             "line": {
              "color": "#000039"
             }
            },
            "type": "table"
           }
          ],
          "waterfall": [
           {
            "connector": {
             "line": {
              "color": "#000036",
              "width": 2
             }
            },
            "decreasing": {
             "marker": {
              "color": "#000033"
             }
            },
            "increasing": {
             "marker": {
              "color": "#000032"
             }
            },
            "totals": {
             "marker": {
              "color": "#000034"
             }
            },
            "type": "waterfall"
           }
          ]
         },
         "layout": {
          "coloraxis": {
           "colorscale": [
            [
             0,
             "#000011"
            ],
            [
             0.1111111111111111,
             "#000012"
            ],
            [
             0.2222222222222222,
             "#000013"
            ],
            [
             0.3333333333333333,
             "#000014"
            ],
            [
             0.4444444444444444,
             "#000015"
            ],
            [
             0.5555555555555556,
             "#000016"
            ],
            [
             0.6666666666666666,
             "#000017"
            ],
            [
             0.7777777777777778,
             "#000018"
            ],
            [
             0.8888888888888888,
             "#000019"
            ],
            [
             1,
             "#000020"
            ]
           ]
          },
          "colorscale": {
           "diverging": [
            [
             0,
             "#000021"
            ],
            [
             0.1,
             "#000022"
            ],
            [
             0.2,
             "#000023"
            ],
            [
             0.3,
             "#000024"
            ],
            [
             0.4,
             "#000025"
            ],
            [
             0.5,
             "#000026"
            ],
            [
             0.6,
             "#000027"
            ],
            [
             0.7,
             "#000028"
            ],
            [
             0.8,
             "#000029"
            ],
            [
             0.9,
             "#000030"
            ],
            [
             1,
             "#000031"
            ]
           ],
           "sequential": [
            [
             0,
             "#000011"
            ],
            [
             0.1111111111111111,
             "#000012"
            ],
            [
             0.2222222222222222,
             "#000013"
            ],
            [
             0.3333333333333333,
             "#000014"
            ],
            [
             0.4444444444444444,
             "#000015"
            ],
            [
             0.5555555555555556,
             "#000016"
            ],
            [
             0.6666666666666666,
             "#000017"
            ],
            [
             0.7777777777777778,
             "#000018"
            ],
            [
             0.8888888888888888,
             "#000019"
            ],
            [
             1,
             "#000020"
            ]
           ],
           "sequentialminus": [
            [
             0,
             "#000011"
            ],
            [
             0.1111111111111111,
             "#000012"
            ],
            [
             0.2222222222222222,
             "#000013"
            ],
            [
             0.3333333333333333,
             "#000014"
            ],
            [
             0.4444444444444444,
             "#000015"
            ],
            [
             0.5555555555555556,
             "#000016"
            ],
            [
             0.6666666666666666,
             "#000017"
            ],
            [
             0.7777777777777778,
             "#000018"
            ],
            [
             0.8888888888888888,
             "#000019"
            ],
            [
             1,
             "#000020"
            ]
           ]
          },
          "colorway": [
           "#000001",
           "#000002",
           "#000003",
           "#000004",
           "#000005",
           "#000006",
           "#000007",
           "#000008",
           "#000009",
           "#000010"
          ]
         }
        },
        "title": {
         "text": "AQI Over Time"
        },
        "xaxis": {
         "tickformat": "%d %b, %I %p",
         "title": {
          "text": "Date and Time"
         }
        },
        "yaxis": {
         "title": {
          "text": "AQI"
         }
        }
       }
      }
     },
     "metadata": {},
     "output_type": "display_data"
    }
   ],
   "source": [
    "plot"
   ]
  },
  {
   "cell_type": "code",
   "execution_count": 20,
   "metadata": {},
   "outputs": [
    {
     "data": {
      "text/plain": [
       "<Figure size 1500x500 with 1 Axes>"
      ]
     },
     "execution_count": 20,
     "metadata": {},
     "output_type": "execute_result"
    }
   ],
   "source": [
    "plot"
   ]
  },
  {
   "cell_type": "code",
   "execution_count": 32,
   "metadata": {},
   "outputs": [],
   "source": [
    "def get_pollutant_values(date_hour):\n",
    "    # loading the forecasted data\n",
    "    forecasted_df = pd.read_csv('../New_data/forecasted_pollutant.csv')\n",
    "    # replacing unnamed column with date\n",
    "    forecasted_df = forecasted_df.rename(columns={'Unnamed: 0': 'date'})\n",
    "    # setting the date column as index\n",
    "    forecasted_df = forecasted_df.set_index('date')\n",
    "    pollutant_values = forecasted_df.loc[date_hour, ['carbon_monoxide', 'dust', 'nitrogen_dioxide', 'ozone', 'pm_10', 'pm_25', 'sulphur_dioxide', 'AQI', 'district']]\n",
    "    pollutant_values_agg = pollutant_values.groupby('district').mean()\n",
    "    return pollutant_values_agg\n",
    "\n",
    "date_hour = '2024-05-29 00:00:00'\n",
    "\n",
    "pollutant_values = get_pollutant_values(date_hour)"
   ]
  },
  {
   "cell_type": "code",
   "execution_count": 33,
   "metadata": {},
   "outputs": [
    {
     "data": {
      "text/html": [
       "<div>\n",
       "<style scoped>\n",
       "    .dataframe tbody tr th:only-of-type {\n",
       "        vertical-align: middle;\n",
       "    }\n",
       "\n",
       "    .dataframe tbody tr th {\n",
       "        vertical-align: top;\n",
       "    }\n",
       "\n",
       "    .dataframe thead th {\n",
       "        text-align: right;\n",
       "    }\n",
       "</style>\n",
       "<table border=\"1\" class=\"dataframe\">\n",
       "  <thead>\n",
       "    <tr style=\"text-align: right;\">\n",
       "      <th></th>\n",
       "      <th>carbon_monoxide</th>\n",
       "      <th>dust</th>\n",
       "      <th>nitrogen_dioxide</th>\n",
       "      <th>ozone</th>\n",
       "      <th>pm_10</th>\n",
       "      <th>pm_25</th>\n",
       "      <th>sulphur_dioxide</th>\n",
       "      <th>AQI</th>\n",
       "    </tr>\n",
       "    <tr>\n",
       "      <th>district</th>\n",
       "      <th></th>\n",
       "      <th></th>\n",
       "      <th></th>\n",
       "      <th></th>\n",
       "      <th></th>\n",
       "      <th></th>\n",
       "      <th></th>\n",
       "      <th></th>\n",
       "    </tr>\n",
       "  </thead>\n",
       "  <tbody>\n",
       "    <tr>\n",
       "      <th>Attock</th>\n",
       "      <td>167.310622</td>\n",
       "      <td>43.020277</td>\n",
       "      <td>15.126495</td>\n",
       "      <td>35.289381</td>\n",
       "      <td>35.133671</td>\n",
       "      <td>18.312509</td>\n",
       "      <td>2.354463</td>\n",
       "      <td>38.276979</td>\n",
       "    </tr>\n",
       "    <tr>\n",
       "      <th>Bahawalnagar</th>\n",
       "      <td>482.910747</td>\n",
       "      <td>358.425129</td>\n",
       "      <td>15.894805</td>\n",
       "      <td>57.285008</td>\n",
       "      <td>143.495081</td>\n",
       "      <td>38.712634</td>\n",
       "      <td>6.913754</td>\n",
       "      <td>120.568360</td>\n",
       "    </tr>\n",
       "    <tr>\n",
       "      <th>Bahawalpur</th>\n",
       "      <td>301.512020</td>\n",
       "      <td>253.493961</td>\n",
       "      <td>6.071180</td>\n",
       "      <td>87.665889</td>\n",
       "      <td>93.176280</td>\n",
       "      <td>29.993535</td>\n",
       "      <td>6.434716</td>\n",
       "      <td>83.939092</td>\n",
       "    </tr>\n",
       "    <tr>\n",
       "      <th>Bhakkar</th>\n",
       "      <td>309.233660</td>\n",
       "      <td>58.957344</td>\n",
       "      <td>12.270230</td>\n",
       "      <td>51.429978</td>\n",
       "      <td>61.141953</td>\n",
       "      <td>24.792392</td>\n",
       "      <td>3.763887</td>\n",
       "      <td>62.714741</td>\n",
       "    </tr>\n",
       "    <tr>\n",
       "      <th>Chakwal</th>\n",
       "      <td>233.066209</td>\n",
       "      <td>51.881208</td>\n",
       "      <td>9.471811</td>\n",
       "      <td>54.154512</td>\n",
       "      <td>33.339006</td>\n",
       "      <td>17.896858</td>\n",
       "      <td>2.502805</td>\n",
       "      <td>45.796152</td>\n",
       "    </tr>\n",
       "    <tr>\n",
       "      <th>Chiniot</th>\n",
       "      <td>669.596480</td>\n",
       "      <td>74.616961</td>\n",
       "      <td>21.386095</td>\n",
       "      <td>25.481860</td>\n",
       "      <td>55.061126</td>\n",
       "      <td>33.498572</td>\n",
       "      <td>5.280702</td>\n",
       "      <td>99.114595</td>\n",
       "    </tr>\n",
       "    <tr>\n",
       "      <th>Dera Ghazi Khan</th>\n",
       "      <td>318.845797</td>\n",
       "      <td>123.971724</td>\n",
       "      <td>9.011479</td>\n",
       "      <td>75.315968</td>\n",
       "      <td>84.232479</td>\n",
       "      <td>29.822874</td>\n",
       "      <td>11.353481</td>\n",
       "      <td>76.615671</td>\n",
       "    </tr>\n",
       "    <tr>\n",
       "      <th>Faisalabad</th>\n",
       "      <td>724.544349</td>\n",
       "      <td>97.740134</td>\n",
       "      <td>16.732219</td>\n",
       "      <td>41.775215</td>\n",
       "      <td>61.180361</td>\n",
       "      <td>35.971139</td>\n",
       "      <td>6.665956</td>\n",
       "      <td>108.983266</td>\n",
       "    </tr>\n",
       "    <tr>\n",
       "      <th>Gujranwala</th>\n",
       "      <td>182.569707</td>\n",
       "      <td>63.104091</td>\n",
       "      <td>16.961721</td>\n",
       "      <td>38.416528</td>\n",
       "      <td>72.370211</td>\n",
       "      <td>19.706119</td>\n",
       "      <td>4.085951</td>\n",
       "      <td>51.225765</td>\n",
       "    </tr>\n",
       "    <tr>\n",
       "      <th>Gujrat</th>\n",
       "      <td>301.453665</td>\n",
       "      <td>42.530500</td>\n",
       "      <td>12.667283</td>\n",
       "      <td>35.956725</td>\n",
       "      <td>66.499471</td>\n",
       "      <td>20.428780</td>\n",
       "      <td>2.871003</td>\n",
       "      <td>59.786822</td>\n",
       "    </tr>\n",
       "    <tr>\n",
       "      <th>Hafizabad</th>\n",
       "      <td>327.174528</td>\n",
       "      <td>64.329098</td>\n",
       "      <td>14.018650</td>\n",
       "      <td>32.261491</td>\n",
       "      <td>58.612816</td>\n",
       "      <td>23.290865</td>\n",
       "      <td>4.073499</td>\n",
       "      <td>62.146125</td>\n",
       "    </tr>\n",
       "    <tr>\n",
       "      <th>Jhang</th>\n",
       "      <td>454.493876</td>\n",
       "      <td>99.848696</td>\n",
       "      <td>14.004009</td>\n",
       "      <td>45.297203</td>\n",
       "      <td>64.277944</td>\n",
       "      <td>35.124093</td>\n",
       "      <td>6.113990</td>\n",
       "      <td>82.534053</td>\n",
       "    </tr>\n",
       "    <tr>\n",
       "      <th>Jhelum</th>\n",
       "      <td>293.047165</td>\n",
       "      <td>43.668862</td>\n",
       "      <td>23.294757</td>\n",
       "      <td>29.962462</td>\n",
       "      <td>50.425934</td>\n",
       "      <td>20.412613</td>\n",
       "      <td>3.170591</td>\n",
       "      <td>56.005316</td>\n",
       "    </tr>\n",
       "    <tr>\n",
       "      <th>Kasur</th>\n",
       "      <td>479.996893</td>\n",
       "      <td>96.039071</td>\n",
       "      <td>14.391928</td>\n",
       "      <td>43.748862</td>\n",
       "      <td>68.080692</td>\n",
       "      <td>24.835728</td>\n",
       "      <td>7.884485</td>\n",
       "      <td>83.352872</td>\n",
       "    </tr>\n",
       "    <tr>\n",
       "      <th>Khanewal</th>\n",
       "      <td>589.467707</td>\n",
       "      <td>133.446028</td>\n",
       "      <td>23.338422</td>\n",
       "      <td>39.236363</td>\n",
       "      <td>94.171711</td>\n",
       "      <td>47.599454</td>\n",
       "      <td>8.057560</td>\n",
       "      <td>109.292017</td>\n",
       "    </tr>\n",
       "    <tr>\n",
       "      <th>Khushab</th>\n",
       "      <td>275.426716</td>\n",
       "      <td>59.745375</td>\n",
       "      <td>11.771719</td>\n",
       "      <td>41.840980</td>\n",
       "      <td>43.688084</td>\n",
       "      <td>20.977256</td>\n",
       "      <td>2.583079</td>\n",
       "      <td>52.904439</td>\n",
       "    </tr>\n",
       "    <tr>\n",
       "      <th>Lahore</th>\n",
       "      <td>468.306133</td>\n",
       "      <td>80.026593</td>\n",
       "      <td>18.428889</td>\n",
       "      <td>27.216655</td>\n",
       "      <td>73.832617</td>\n",
       "      <td>20.556258</td>\n",
       "      <td>8.468595</td>\n",
       "      <td>80.762022</td>\n",
       "    </tr>\n",
       "    <tr>\n",
       "      <th>Layyah</th>\n",
       "      <td>399.697308</td>\n",
       "      <td>81.243608</td>\n",
       "      <td>15.586733</td>\n",
       "      <td>44.649633</td>\n",
       "      <td>86.040236</td>\n",
       "      <td>36.090800</td>\n",
       "      <td>5.831967</td>\n",
       "      <td>81.950843</td>\n",
       "    </tr>\n",
       "    <tr>\n",
       "      <th>Lodhran</th>\n",
       "      <td>553.838482</td>\n",
       "      <td>182.986613</td>\n",
       "      <td>21.989021</td>\n",
       "      <td>55.797852</td>\n",
       "      <td>110.465729</td>\n",
       "      <td>45.983989</td>\n",
       "      <td>8.442847</td>\n",
       "      <td>113.368032</td>\n",
       "    </tr>\n",
       "    <tr>\n",
       "      <th>Mandi Bahuddin</th>\n",
       "      <td>219.384620</td>\n",
       "      <td>50.618711</td>\n",
       "      <td>13.694129</td>\n",
       "      <td>33.503469</td>\n",
       "      <td>65.234160</td>\n",
       "      <td>18.049594</td>\n",
       "      <td>3.483736</td>\n",
       "      <td>51.043177</td>\n",
       "    </tr>\n",
       "    <tr>\n",
       "      <th>Mianwali</th>\n",
       "      <td>261.424799</td>\n",
       "      <td>41.664324</td>\n",
       "      <td>8.777294</td>\n",
       "      <td>42.669562</td>\n",
       "      <td>42.565350</td>\n",
       "      <td>21.973402</td>\n",
       "      <td>2.465260</td>\n",
       "      <td>50.190463</td>\n",
       "    </tr>\n",
       "    <tr>\n",
       "      <th>Multan</th>\n",
       "      <td>548.711688</td>\n",
       "      <td>135.477090</td>\n",
       "      <td>21.536056</td>\n",
       "      <td>50.342994</td>\n",
       "      <td>104.828070</td>\n",
       "      <td>45.783299</td>\n",
       "      <td>8.914633</td>\n",
       "      <td>108.454042</td>\n",
       "    </tr>\n",
       "    <tr>\n",
       "      <th>Muzaffargarh</th>\n",
       "      <td>427.851123</td>\n",
       "      <td>123.207962</td>\n",
       "      <td>18.481380</td>\n",
       "      <td>54.599153</td>\n",
       "      <td>96.973606</td>\n",
       "      <td>37.880537</td>\n",
       "      <td>8.919060</td>\n",
       "      <td>91.783076</td>\n",
       "    </tr>\n",
       "    <tr>\n",
       "      <th>Nankana Sahib</th>\n",
       "      <td>428.457415</td>\n",
       "      <td>100.855408</td>\n",
       "      <td>13.659435</td>\n",
       "      <td>41.714700</td>\n",
       "      <td>68.963880</td>\n",
       "      <td>26.449570</td>\n",
       "      <td>7.071299</td>\n",
       "      <td>78.669387</td>\n",
       "    </tr>\n",
       "    <tr>\n",
       "      <th>Narowal</th>\n",
       "      <td>403.928190</td>\n",
       "      <td>50.188671</td>\n",
       "      <td>15.862365</td>\n",
       "      <td>27.894628</td>\n",
       "      <td>73.342589</td>\n",
       "      <td>25.118421</td>\n",
       "      <td>3.533432</td>\n",
       "      <td>73.039670</td>\n",
       "    </tr>\n",
       "    <tr>\n",
       "      <th>Okara</th>\n",
       "      <td>537.797677</td>\n",
       "      <td>154.053618</td>\n",
       "      <td>17.909488</td>\n",
       "      <td>38.046642</td>\n",
       "      <td>87.310103</td>\n",
       "      <td>32.025799</td>\n",
       "      <td>7.440404</td>\n",
       "      <td>98.551551</td>\n",
       "    </tr>\n",
       "    <tr>\n",
       "      <th>Pakpattan</th>\n",
       "      <td>691.416143</td>\n",
       "      <td>120.693807</td>\n",
       "      <td>23.144024</td>\n",
       "      <td>35.931291</td>\n",
       "      <td>82.680745</td>\n",
       "      <td>43.311722</td>\n",
       "      <td>7.128873</td>\n",
       "      <td>114.452043</td>\n",
       "    </tr>\n",
       "    <tr>\n",
       "      <th>Rahim Yar Khan</th>\n",
       "      <td>307.822844</td>\n",
       "      <td>134.378643</td>\n",
       "      <td>11.204490</td>\n",
       "      <td>78.236037</td>\n",
       "      <td>79.313429</td>\n",
       "      <td>29.549693</td>\n",
       "      <td>7.219406</td>\n",
       "      <td>74.943215</td>\n",
       "    </tr>\n",
       "    <tr>\n",
       "      <th>Rajanpur</th>\n",
       "      <td>288.372741</td>\n",
       "      <td>138.602465</td>\n",
       "      <td>11.114446</td>\n",
       "      <td>73.681179</td>\n",
       "      <td>78.399939</td>\n",
       "      <td>29.209753</td>\n",
       "      <td>8.527691</td>\n",
       "      <td>72.557875</td>\n",
       "    </tr>\n",
       "    <tr>\n",
       "      <th>Rawalpindi</th>\n",
       "      <td>294.999877</td>\n",
       "      <td>41.609642</td>\n",
       "      <td>17.187498</td>\n",
       "      <td>38.758967</td>\n",
       "      <td>37.405688</td>\n",
       "      <td>18.829463</td>\n",
       "      <td>3.162527</td>\n",
       "      <td>52.409531</td>\n",
       "    </tr>\n",
       "    <tr>\n",
       "      <th>Sahiwal</th>\n",
       "      <td>707.662609</td>\n",
       "      <td>118.679395</td>\n",
       "      <td>20.541704</td>\n",
       "      <td>42.864748</td>\n",
       "      <td>77.511206</td>\n",
       "      <td>46.477339</td>\n",
       "      <td>7.601029</td>\n",
       "      <td>115.825204</td>\n",
       "    </tr>\n",
       "    <tr>\n",
       "      <th>Sargodha</th>\n",
       "      <td>382.827676</td>\n",
       "      <td>54.812453</td>\n",
       "      <td>15.965960</td>\n",
       "      <td>25.385514</td>\n",
       "      <td>43.376188</td>\n",
       "      <td>21.718480</td>\n",
       "      <td>2.882323</td>\n",
       "      <td>62.518734</td>\n",
       "    </tr>\n",
       "    <tr>\n",
       "      <th>Sheikhupura</th>\n",
       "      <td>360.589721</td>\n",
       "      <td>67.815003</td>\n",
       "      <td>15.195578</td>\n",
       "      <td>28.865912</td>\n",
       "      <td>65.327761</td>\n",
       "      <td>20.962898</td>\n",
       "      <td>6.153040</td>\n",
       "      <td>66.803620</td>\n",
       "    </tr>\n",
       "    <tr>\n",
       "      <th>Sialkot</th>\n",
       "      <td>351.372904</td>\n",
       "      <td>52.798122</td>\n",
       "      <td>18.724219</td>\n",
       "      <td>22.625546</td>\n",
       "      <td>76.411807</td>\n",
       "      <td>21.443919</td>\n",
       "      <td>3.670021</td>\n",
       "      <td>67.679316</td>\n",
       "    </tr>\n",
       "    <tr>\n",
       "      <th>Toba Tek Singh</th>\n",
       "      <td>668.825067</td>\n",
       "      <td>99.552825</td>\n",
       "      <td>15.724868</td>\n",
       "      <td>46.299028</td>\n",
       "      <td>70.768306</td>\n",
       "      <td>42.359759</td>\n",
       "      <td>7.562971</td>\n",
       "      <td>107.887097</td>\n",
       "    </tr>\n",
       "    <tr>\n",
       "      <th>Vehari</th>\n",
       "      <td>646.710556</td>\n",
       "      <td>155.122696</td>\n",
       "      <td>24.756217</td>\n",
       "      <td>44.557911</td>\n",
       "      <td>108.067626</td>\n",
       "      <td>52.136854</td>\n",
       "      <td>8.553171</td>\n",
       "      <td>121.502856</td>\n",
       "    </tr>\n",
       "  </tbody>\n",
       "</table>\n",
       "</div>"
      ],
      "text/plain": [
       "                 carbon_monoxide        dust  nitrogen_dioxide      ozone  \\\n",
       "district                                                                    \n",
       "Attock                167.310622   43.020277         15.126495  35.289381   \n",
       "Bahawalnagar          482.910747  358.425129         15.894805  57.285008   \n",
       "Bahawalpur            301.512020  253.493961          6.071180  87.665889   \n",
       "Bhakkar               309.233660   58.957344         12.270230  51.429978   \n",
       "Chakwal               233.066209   51.881208          9.471811  54.154512   \n",
       "Chiniot               669.596480   74.616961         21.386095  25.481860   \n",
       "Dera Ghazi Khan       318.845797  123.971724          9.011479  75.315968   \n",
       "Faisalabad            724.544349   97.740134         16.732219  41.775215   \n",
       "Gujranwala            182.569707   63.104091         16.961721  38.416528   \n",
       "Gujrat                301.453665   42.530500         12.667283  35.956725   \n",
       "Hafizabad             327.174528   64.329098         14.018650  32.261491   \n",
       "Jhang                 454.493876   99.848696         14.004009  45.297203   \n",
       "Jhelum                293.047165   43.668862         23.294757  29.962462   \n",
       "Kasur                 479.996893   96.039071         14.391928  43.748862   \n",
       "Khanewal              589.467707  133.446028         23.338422  39.236363   \n",
       "Khushab               275.426716   59.745375         11.771719  41.840980   \n",
       "Lahore                468.306133   80.026593         18.428889  27.216655   \n",
       "Layyah                399.697308   81.243608         15.586733  44.649633   \n",
       "Lodhran               553.838482  182.986613         21.989021  55.797852   \n",
       "Mandi Bahuddin        219.384620   50.618711         13.694129  33.503469   \n",
       "Mianwali              261.424799   41.664324          8.777294  42.669562   \n",
       "Multan                548.711688  135.477090         21.536056  50.342994   \n",
       "Muzaffargarh          427.851123  123.207962         18.481380  54.599153   \n",
       "Nankana Sahib         428.457415  100.855408         13.659435  41.714700   \n",
       "Narowal               403.928190   50.188671         15.862365  27.894628   \n",
       "Okara                 537.797677  154.053618         17.909488  38.046642   \n",
       "Pakpattan             691.416143  120.693807         23.144024  35.931291   \n",
       "Rahim Yar Khan        307.822844  134.378643         11.204490  78.236037   \n",
       "Rajanpur              288.372741  138.602465         11.114446  73.681179   \n",
       "Rawalpindi            294.999877   41.609642         17.187498  38.758967   \n",
       "Sahiwal               707.662609  118.679395         20.541704  42.864748   \n",
       "Sargodha              382.827676   54.812453         15.965960  25.385514   \n",
       "Sheikhupura           360.589721   67.815003         15.195578  28.865912   \n",
       "Sialkot               351.372904   52.798122         18.724219  22.625546   \n",
       "Toba Tek Singh        668.825067   99.552825         15.724868  46.299028   \n",
       "Vehari                646.710556  155.122696         24.756217  44.557911   \n",
       "\n",
       "                      pm_10      pm_25  sulphur_dioxide         AQI  \n",
       "district                                                             \n",
       "Attock            35.133671  18.312509         2.354463   38.276979  \n",
       "Bahawalnagar     143.495081  38.712634         6.913754  120.568360  \n",
       "Bahawalpur        93.176280  29.993535         6.434716   83.939092  \n",
       "Bhakkar           61.141953  24.792392         3.763887   62.714741  \n",
       "Chakwal           33.339006  17.896858         2.502805   45.796152  \n",
       "Chiniot           55.061126  33.498572         5.280702   99.114595  \n",
       "Dera Ghazi Khan   84.232479  29.822874        11.353481   76.615671  \n",
       "Faisalabad        61.180361  35.971139         6.665956  108.983266  \n",
       "Gujranwala        72.370211  19.706119         4.085951   51.225765  \n",
       "Gujrat            66.499471  20.428780         2.871003   59.786822  \n",
       "Hafizabad         58.612816  23.290865         4.073499   62.146125  \n",
       "Jhang             64.277944  35.124093         6.113990   82.534053  \n",
       "Jhelum            50.425934  20.412613         3.170591   56.005316  \n",
       "Kasur             68.080692  24.835728         7.884485   83.352872  \n",
       "Khanewal          94.171711  47.599454         8.057560  109.292017  \n",
       "Khushab           43.688084  20.977256         2.583079   52.904439  \n",
       "Lahore            73.832617  20.556258         8.468595   80.762022  \n",
       "Layyah            86.040236  36.090800         5.831967   81.950843  \n",
       "Lodhran          110.465729  45.983989         8.442847  113.368032  \n",
       "Mandi Bahuddin    65.234160  18.049594         3.483736   51.043177  \n",
       "Mianwali          42.565350  21.973402         2.465260   50.190463  \n",
       "Multan           104.828070  45.783299         8.914633  108.454042  \n",
       "Muzaffargarh      96.973606  37.880537         8.919060   91.783076  \n",
       "Nankana Sahib     68.963880  26.449570         7.071299   78.669387  \n",
       "Narowal           73.342589  25.118421         3.533432   73.039670  \n",
       "Okara             87.310103  32.025799         7.440404   98.551551  \n",
       "Pakpattan         82.680745  43.311722         7.128873  114.452043  \n",
       "Rahim Yar Khan    79.313429  29.549693         7.219406   74.943215  \n",
       "Rajanpur          78.399939  29.209753         8.527691   72.557875  \n",
       "Rawalpindi        37.405688  18.829463         3.162527   52.409531  \n",
       "Sahiwal           77.511206  46.477339         7.601029  115.825204  \n",
       "Sargodha          43.376188  21.718480         2.882323   62.518734  \n",
       "Sheikhupura       65.327761  20.962898         6.153040   66.803620  \n",
       "Sialkot           76.411807  21.443919         3.670021   67.679316  \n",
       "Toba Tek Singh    70.768306  42.359759         7.562971  107.887097  \n",
       "Vehari           108.067626  52.136854         8.553171  121.502856  "
      ]
     },
     "execution_count": 33,
     "metadata": {},
     "output_type": "execute_result"
    }
   ],
   "source": [
    "pollutant_values"
   ]
  },
  {
   "cell_type": "code",
   "execution_count": 45,
   "metadata": {},
   "outputs": [],
   "source": [
    "import pandas as pd\n",
    "import streamlit as st\n",
    "\n",
    "# Sample data (replace this with your actual data loading step)\n",
    "data = {\n",
    "    \"district\": [\"Attock\", \"Bahawalnagar\", \"Bahawalpur\", \"Bhakkar\", \"Chakwal\", \"Chiniot\", \"Dera Ghazi Khan\", \"Faisalabad\", \"Gujranwala\", \"Gujrat\", \"Hafizabad\", \"Jhang\", \"Jhelum\", \"Kasur\", \"Khanewal\", \"Khushab\", \"Lahore\", \"Layyah\", \"Lodhran\", \"Mandi Bahuddin\"],\n",
    "    \"AQI\": [38.276979, 120.56836, 83.939092, 62.714741, 45.796152, 99.114595, 76.615671, 108.983266, 51.225765, 59.786822, 62.146125, 82.534053, 56.005316, 83.352872, 109.292017, 52.904439, 80.762022, 81.950843, 113.368032, 51.043177]\n",
    "}\n",
    "\n",
    "df = pd.DataFrame(data)\n",
    "df = df.set_index('district')\n",
    "\n",
    "# Function to convert AQI to color\n",
    "def aqi_to_color(aqi):\n",
    "    if aqi <= 50:\n",
    "        return '#00E400'  # Good\n",
    "    elif aqi <= 100:\n",
    "        return '#FFFF00'  # Moderate\n",
    "    elif aqi <= 150:\n",
    "        return '#FF7E00'  # Unhealthy for sensitive groups\n",
    "    elif aqi <= 200:\n",
    "        return '#FF0000'  # Unhealthy\n",
    "    elif aqi <= 300:\n",
    "        return '#8F3F97'  # Very Unhealthy\n",
    "    else:\n",
    "        return '#7E0023'  # Hazardous\n",
    "\n",
    "# Sort DataFrame by AQI in ascending order\n",
    "df_sorted = df.sort_values(by='AQI', ascending=True)\n",
    "\n",
    "# Add a column for colors based on AQI values\n",
    "df_sorted['Color'] = df_sorted['AQI'].apply(aqi_to_color)\n",
    "\n",
    "# Convert the DataFrame to a format suitable for display in Streamlit\n",
    "df_display = df_sorted.reset_index()\n",
    "\n",
    "# Streamlit app\n",
    "st.title('AQI Table for Districts in Punjab, Pakistan')\n",
    "\n",
    "# Display the table\n",
    "st.write(df_display)\n",
    "\n",
    "# Function to display the AQI table with colored AQI values\n",
    "def display_colored_table(df):\n",
    "    df_html = df.to_html(escape=False, index=False)\n",
    "    st.markdown(df_html, unsafe_allow_html=True)\n",
    "\n",
    "# Apply color formatting to the AQI column\n",
    "df_display['AQI'] = df_display.apply(lambda row: f'<div style=\"background-color:{row[\"Color\"]};\">{row[\"AQI\"]}</div>', axis=1)\n",
    "\n",
    "# Display the colored table\n",
    "display_colored_table(df_display[['district', 'AQI']])\n"
   ]
  },
  {
   "cell_type": "code",
   "execution_count": 46,
   "metadata": {},
   "outputs": [
    {
     "ename": "ValueError",
     "evalue": "could not convert string to float: '<span style=\"color:#00E400\">38.276979</span>'",
     "output_type": "error",
     "traceback": [
      "\u001b[1;31m---------------------------------------------------------------------------\u001b[0m",
      "\u001b[1;31mValueError\u001b[0m                                Traceback (most recent call last)",
      "Cell \u001b[1;32mIn[46], line 1\u001b[0m\n\u001b[1;32m----> 1\u001b[0m \u001b[43mdisplay_colored_table\u001b[49m\u001b[43m(\u001b[49m\u001b[43mdf_sorted\u001b[49m\u001b[43m)\u001b[49m\n",
      "Cell \u001b[1;32mIn[45], line 43\u001b[0m, in \u001b[0;36mdisplay_colored_table\u001b[1;34m(df)\u001b[0m\n\u001b[0;32m     42\u001b[0m \u001b[38;5;28;01mdef\u001b[39;00m \u001b[38;5;21mdisplay_colored_table\u001b[39m(df):\n\u001b[1;32m---> 43\u001b[0m     df[\u001b[38;5;124m'\u001b[39m\u001b[38;5;124mAQI\u001b[39m\u001b[38;5;124m'\u001b[39m] \u001b[38;5;241m=\u001b[39m \u001b[43mdf\u001b[49m\u001b[43m[\u001b[49m\u001b[38;5;124;43m'\u001b[39;49m\u001b[38;5;124;43mAQI\u001b[39;49m\u001b[38;5;124;43m'\u001b[39;49m\u001b[43m]\u001b[49m\u001b[38;5;241;43m.\u001b[39;49m\u001b[43mapply\u001b[49m\u001b[43m(\u001b[49m\u001b[38;5;28;43;01mlambda\u001b[39;49;00m\u001b[43m \u001b[49m\u001b[43mx\u001b[49m\u001b[43m:\u001b[49m\u001b[43m \u001b[49m\u001b[38;5;124;43mf\u001b[39;49m\u001b[38;5;124;43m'\u001b[39;49m\u001b[38;5;124;43m<span style=\u001b[39;49m\u001b[38;5;124;43m\"\u001b[39;49m\u001b[38;5;124;43mcolor:\u001b[39;49m\u001b[38;5;132;43;01m{\u001b[39;49;00m\u001b[43maqi_to_color\u001b[49m\u001b[43m(\u001b[49m\u001b[43mx\u001b[49m\u001b[43m)\u001b[49m\u001b[38;5;132;43;01m}\u001b[39;49;00m\u001b[38;5;124;43m\"\u001b[39;49m\u001b[38;5;124;43m>\u001b[39;49m\u001b[38;5;132;43;01m{\u001b[39;49;00m\u001b[43mx\u001b[49m\u001b[38;5;132;43;01m}\u001b[39;49;00m\u001b[38;5;124;43m</span>\u001b[39;49m\u001b[38;5;124;43m'\u001b[39;49m\u001b[43m)\u001b[49m\n\u001b[0;32m     44\u001b[0m     df \u001b[38;5;241m=\u001b[39m df\u001b[38;5;241m.\u001b[39mto_html(escape\u001b[38;5;241m=\u001b[39m\u001b[38;5;28;01mFalse\u001b[39;00m)\n\u001b[0;32m     45\u001b[0m     st\u001b[38;5;241m.\u001b[39mwrite(df, unsafe_allow_html\u001b[38;5;241m=\u001b[39m\u001b[38;5;28;01mTrue\u001b[39;00m)\n",
      "File \u001b[1;32mc:\\Users\\timmy\\Downloads\\SMOG\\venv\\lib\\site-packages\\pandas\\core\\series.py:4924\u001b[0m, in \u001b[0;36mSeries.apply\u001b[1;34m(self, func, convert_dtype, args, by_row, **kwargs)\u001b[0m\n\u001b[0;32m   4789\u001b[0m \u001b[38;5;28;01mdef\u001b[39;00m \u001b[38;5;21mapply\u001b[39m(\n\u001b[0;32m   4790\u001b[0m     \u001b[38;5;28mself\u001b[39m,\n\u001b[0;32m   4791\u001b[0m     func: AggFuncType,\n\u001b[1;32m   (...)\u001b[0m\n\u001b[0;32m   4796\u001b[0m     \u001b[38;5;241m*\u001b[39m\u001b[38;5;241m*\u001b[39mkwargs,\n\u001b[0;32m   4797\u001b[0m ) \u001b[38;5;241m-\u001b[39m\u001b[38;5;241m>\u001b[39m DataFrame \u001b[38;5;241m|\u001b[39m Series:\n\u001b[0;32m   4798\u001b[0m \u001b[38;5;250m    \u001b[39m\u001b[38;5;124;03m\"\"\"\u001b[39;00m\n\u001b[0;32m   4799\u001b[0m \u001b[38;5;124;03m    Invoke function on values of Series.\u001b[39;00m\n\u001b[0;32m   4800\u001b[0m \n\u001b[1;32m   (...)\u001b[0m\n\u001b[0;32m   4915\u001b[0m \u001b[38;5;124;03m    dtype: float64\u001b[39;00m\n\u001b[0;32m   4916\u001b[0m \u001b[38;5;124;03m    \"\"\"\u001b[39;00m\n\u001b[0;32m   4917\u001b[0m     \u001b[38;5;28;01mreturn\u001b[39;00m \u001b[43mSeriesApply\u001b[49m\u001b[43m(\u001b[49m\n\u001b[0;32m   4918\u001b[0m \u001b[43m        \u001b[49m\u001b[38;5;28;43mself\u001b[39;49m\u001b[43m,\u001b[49m\n\u001b[0;32m   4919\u001b[0m \u001b[43m        \u001b[49m\u001b[43mfunc\u001b[49m\u001b[43m,\u001b[49m\n\u001b[0;32m   4920\u001b[0m \u001b[43m        \u001b[49m\u001b[43mconvert_dtype\u001b[49m\u001b[38;5;241;43m=\u001b[39;49m\u001b[43mconvert_dtype\u001b[49m\u001b[43m,\u001b[49m\n\u001b[0;32m   4921\u001b[0m \u001b[43m        \u001b[49m\u001b[43mby_row\u001b[49m\u001b[38;5;241;43m=\u001b[39;49m\u001b[43mby_row\u001b[49m\u001b[43m,\u001b[49m\n\u001b[0;32m   4922\u001b[0m \u001b[43m        \u001b[49m\u001b[43margs\u001b[49m\u001b[38;5;241;43m=\u001b[39;49m\u001b[43margs\u001b[49m\u001b[43m,\u001b[49m\n\u001b[0;32m   4923\u001b[0m \u001b[43m        \u001b[49m\u001b[43mkwargs\u001b[49m\u001b[38;5;241;43m=\u001b[39;49m\u001b[43mkwargs\u001b[49m\u001b[43m,\u001b[49m\n\u001b[1;32m-> 4924\u001b[0m \u001b[43m    \u001b[49m\u001b[43m)\u001b[49m\u001b[38;5;241;43m.\u001b[39;49m\u001b[43mapply\u001b[49m\u001b[43m(\u001b[49m\u001b[43m)\u001b[49m\n",
      "File \u001b[1;32mc:\\Users\\timmy\\Downloads\\SMOG\\venv\\lib\\site-packages\\pandas\\core\\apply.py:1427\u001b[0m, in \u001b[0;36mSeriesApply.apply\u001b[1;34m(self)\u001b[0m\n\u001b[0;32m   1424\u001b[0m     \u001b[38;5;28;01mreturn\u001b[39;00m \u001b[38;5;28mself\u001b[39m\u001b[38;5;241m.\u001b[39mapply_compat()\n\u001b[0;32m   1426\u001b[0m \u001b[38;5;66;03m# self.func is Callable\u001b[39;00m\n\u001b[1;32m-> 1427\u001b[0m \u001b[38;5;28;01mreturn\u001b[39;00m \u001b[38;5;28;43mself\u001b[39;49m\u001b[38;5;241;43m.\u001b[39;49m\u001b[43mapply_standard\u001b[49m\u001b[43m(\u001b[49m\u001b[43m)\u001b[49m\n",
      "File \u001b[1;32mc:\\Users\\timmy\\Downloads\\SMOG\\venv\\lib\\site-packages\\pandas\\core\\apply.py:1507\u001b[0m, in \u001b[0;36mSeriesApply.apply_standard\u001b[1;34m(self)\u001b[0m\n\u001b[0;32m   1501\u001b[0m \u001b[38;5;66;03m# row-wise access\u001b[39;00m\n\u001b[0;32m   1502\u001b[0m \u001b[38;5;66;03m# apply doesn't have a `na_action` keyword and for backward compat reasons\u001b[39;00m\n\u001b[0;32m   1503\u001b[0m \u001b[38;5;66;03m# we need to give `na_action=\"ignore\"` for categorical data.\u001b[39;00m\n\u001b[0;32m   1504\u001b[0m \u001b[38;5;66;03m# TODO: remove the `na_action=\"ignore\"` when that default has been changed in\u001b[39;00m\n\u001b[0;32m   1505\u001b[0m \u001b[38;5;66;03m#  Categorical (GH51645).\u001b[39;00m\n\u001b[0;32m   1506\u001b[0m action \u001b[38;5;241m=\u001b[39m \u001b[38;5;124m\"\u001b[39m\u001b[38;5;124mignore\u001b[39m\u001b[38;5;124m\"\u001b[39m \u001b[38;5;28;01mif\u001b[39;00m \u001b[38;5;28misinstance\u001b[39m(obj\u001b[38;5;241m.\u001b[39mdtype, CategoricalDtype) \u001b[38;5;28;01melse\u001b[39;00m \u001b[38;5;28;01mNone\u001b[39;00m\n\u001b[1;32m-> 1507\u001b[0m mapped \u001b[38;5;241m=\u001b[39m \u001b[43mobj\u001b[49m\u001b[38;5;241;43m.\u001b[39;49m\u001b[43m_map_values\u001b[49m\u001b[43m(\u001b[49m\n\u001b[0;32m   1508\u001b[0m \u001b[43m    \u001b[49m\u001b[43mmapper\u001b[49m\u001b[38;5;241;43m=\u001b[39;49m\u001b[43mcurried\u001b[49m\u001b[43m,\u001b[49m\u001b[43m \u001b[49m\u001b[43mna_action\u001b[49m\u001b[38;5;241;43m=\u001b[39;49m\u001b[43maction\u001b[49m\u001b[43m,\u001b[49m\u001b[43m \u001b[49m\u001b[43mconvert\u001b[49m\u001b[38;5;241;43m=\u001b[39;49m\u001b[38;5;28;43mself\u001b[39;49m\u001b[38;5;241;43m.\u001b[39;49m\u001b[43mconvert_dtype\u001b[49m\n\u001b[0;32m   1509\u001b[0m \u001b[43m\u001b[49m\u001b[43m)\u001b[49m\n\u001b[0;32m   1511\u001b[0m \u001b[38;5;28;01mif\u001b[39;00m \u001b[38;5;28mlen\u001b[39m(mapped) \u001b[38;5;129;01mand\u001b[39;00m \u001b[38;5;28misinstance\u001b[39m(mapped[\u001b[38;5;241m0\u001b[39m], ABCSeries):\n\u001b[0;32m   1512\u001b[0m     \u001b[38;5;66;03m# GH#43986 Need to do list(mapped) in order to get treated as nested\u001b[39;00m\n\u001b[0;32m   1513\u001b[0m     \u001b[38;5;66;03m#  See also GH#25959 regarding EA support\u001b[39;00m\n\u001b[0;32m   1514\u001b[0m     \u001b[38;5;28;01mreturn\u001b[39;00m obj\u001b[38;5;241m.\u001b[39m_constructor_expanddim(\u001b[38;5;28mlist\u001b[39m(mapped), index\u001b[38;5;241m=\u001b[39mobj\u001b[38;5;241m.\u001b[39mindex)\n",
      "File \u001b[1;32mc:\\Users\\timmy\\Downloads\\SMOG\\venv\\lib\\site-packages\\pandas\\core\\base.py:921\u001b[0m, in \u001b[0;36mIndexOpsMixin._map_values\u001b[1;34m(self, mapper, na_action, convert)\u001b[0m\n\u001b[0;32m    918\u001b[0m \u001b[38;5;28;01mif\u001b[39;00m \u001b[38;5;28misinstance\u001b[39m(arr, ExtensionArray):\n\u001b[0;32m    919\u001b[0m     \u001b[38;5;28;01mreturn\u001b[39;00m arr\u001b[38;5;241m.\u001b[39mmap(mapper, na_action\u001b[38;5;241m=\u001b[39mna_action)\n\u001b[1;32m--> 921\u001b[0m \u001b[38;5;28;01mreturn\u001b[39;00m \u001b[43malgorithms\u001b[49m\u001b[38;5;241;43m.\u001b[39;49m\u001b[43mmap_array\u001b[49m\u001b[43m(\u001b[49m\u001b[43marr\u001b[49m\u001b[43m,\u001b[49m\u001b[43m \u001b[49m\u001b[43mmapper\u001b[49m\u001b[43m,\u001b[49m\u001b[43m \u001b[49m\u001b[43mna_action\u001b[49m\u001b[38;5;241;43m=\u001b[39;49m\u001b[43mna_action\u001b[49m\u001b[43m,\u001b[49m\u001b[43m \u001b[49m\u001b[43mconvert\u001b[49m\u001b[38;5;241;43m=\u001b[39;49m\u001b[43mconvert\u001b[49m\u001b[43m)\u001b[49m\n",
      "File \u001b[1;32mc:\\Users\\timmy\\Downloads\\SMOG\\venv\\lib\\site-packages\\pandas\\core\\algorithms.py:1743\u001b[0m, in \u001b[0;36mmap_array\u001b[1;34m(arr, mapper, na_action, convert)\u001b[0m\n\u001b[0;32m   1741\u001b[0m values \u001b[38;5;241m=\u001b[39m arr\u001b[38;5;241m.\u001b[39mastype(\u001b[38;5;28mobject\u001b[39m, copy\u001b[38;5;241m=\u001b[39m\u001b[38;5;28;01mFalse\u001b[39;00m)\n\u001b[0;32m   1742\u001b[0m \u001b[38;5;28;01mif\u001b[39;00m na_action \u001b[38;5;129;01mis\u001b[39;00m \u001b[38;5;28;01mNone\u001b[39;00m:\n\u001b[1;32m-> 1743\u001b[0m     \u001b[38;5;28;01mreturn\u001b[39;00m \u001b[43mlib\u001b[49m\u001b[38;5;241;43m.\u001b[39;49m\u001b[43mmap_infer\u001b[49m\u001b[43m(\u001b[49m\u001b[43mvalues\u001b[49m\u001b[43m,\u001b[49m\u001b[43m \u001b[49m\u001b[43mmapper\u001b[49m\u001b[43m,\u001b[49m\u001b[43m \u001b[49m\u001b[43mconvert\u001b[49m\u001b[38;5;241;43m=\u001b[39;49m\u001b[43mconvert\u001b[49m\u001b[43m)\u001b[49m\n\u001b[0;32m   1744\u001b[0m \u001b[38;5;28;01melse\u001b[39;00m:\n\u001b[0;32m   1745\u001b[0m     \u001b[38;5;28;01mreturn\u001b[39;00m lib\u001b[38;5;241m.\u001b[39mmap_infer_mask(\n\u001b[0;32m   1746\u001b[0m         values, mapper, mask\u001b[38;5;241m=\u001b[39misna(values)\u001b[38;5;241m.\u001b[39mview(np\u001b[38;5;241m.\u001b[39muint8), convert\u001b[38;5;241m=\u001b[39mconvert\n\u001b[0;32m   1747\u001b[0m     )\n",
      "File \u001b[1;32mlib.pyx:2972\u001b[0m, in \u001b[0;36mpandas._libs.lib.map_infer\u001b[1;34m()\u001b[0m\n",
      "Cell \u001b[1;32mIn[45], line 43\u001b[0m, in \u001b[0;36mdisplay_colored_table.<locals>.<lambda>\u001b[1;34m(x)\u001b[0m\n\u001b[0;32m     42\u001b[0m \u001b[38;5;28;01mdef\u001b[39;00m \u001b[38;5;21mdisplay_colored_table\u001b[39m(df):\n\u001b[1;32m---> 43\u001b[0m     df[\u001b[38;5;124m'\u001b[39m\u001b[38;5;124mAQI\u001b[39m\u001b[38;5;124m'\u001b[39m] \u001b[38;5;241m=\u001b[39m df[\u001b[38;5;124m'\u001b[39m\u001b[38;5;124mAQI\u001b[39m\u001b[38;5;124m'\u001b[39m]\u001b[38;5;241m.\u001b[39mapply(\u001b[38;5;28;01mlambda\u001b[39;00m x: \u001b[38;5;124mf\u001b[39m\u001b[38;5;124m'\u001b[39m\u001b[38;5;124m<span style=\u001b[39m\u001b[38;5;124m\"\u001b[39m\u001b[38;5;124mcolor:\u001b[39m\u001b[38;5;132;01m{\u001b[39;00m\u001b[43maqi_to_color\u001b[49m\u001b[43m(\u001b[49m\u001b[43mx\u001b[49m\u001b[43m)\u001b[49m\u001b[38;5;132;01m}\u001b[39;00m\u001b[38;5;124m\"\u001b[39m\u001b[38;5;124m>\u001b[39m\u001b[38;5;132;01m{\u001b[39;00mx\u001b[38;5;132;01m}\u001b[39;00m\u001b[38;5;124m</span>\u001b[39m\u001b[38;5;124m'\u001b[39m)\n\u001b[0;32m     44\u001b[0m     df \u001b[38;5;241m=\u001b[39m df\u001b[38;5;241m.\u001b[39mto_html(escape\u001b[38;5;241m=\u001b[39m\u001b[38;5;28;01mFalse\u001b[39;00m)\n\u001b[0;32m     45\u001b[0m     st\u001b[38;5;241m.\u001b[39mwrite(df, unsafe_allow_html\u001b[38;5;241m=\u001b[39m\u001b[38;5;28;01mTrue\u001b[39;00m)\n",
      "Cell \u001b[1;32mIn[45], line 6\u001b[0m, in \u001b[0;36maqi_to_color\u001b[1;34m(aqi)\u001b[0m\n\u001b[0;32m      5\u001b[0m \u001b[38;5;28;01mdef\u001b[39;00m \u001b[38;5;21maqi_to_color\u001b[39m(aqi):\n\u001b[1;32m----> 6\u001b[0m     \u001b[38;5;28;01mif\u001b[39;00m \u001b[38;5;28;43mfloat\u001b[39;49m\u001b[43m(\u001b[49m\u001b[43maqi\u001b[49m\u001b[43m)\u001b[49m \u001b[38;5;241m<\u001b[39m\u001b[38;5;241m=\u001b[39m \u001b[38;5;241m50\u001b[39m:\n\u001b[0;32m      7\u001b[0m         \u001b[38;5;28;01mreturn\u001b[39;00m \u001b[38;5;124m'\u001b[39m\u001b[38;5;124m#00E400\u001b[39m\u001b[38;5;124m'\u001b[39m  \u001b[38;5;66;03m# Good\u001b[39;00m\n\u001b[0;32m      8\u001b[0m     \u001b[38;5;28;01melif\u001b[39;00m \u001b[38;5;28mfloat\u001b[39m(aqi) \u001b[38;5;241m<\u001b[39m\u001b[38;5;241m=\u001b[39m \u001b[38;5;241m100\u001b[39m:\n",
      "\u001b[1;31mValueError\u001b[0m: could not convert string to float: '<span style=\"color:#00E400\">38.276979</span>'"
     ]
    }
   ],
   "source": [
    "\n",
    "display_colored_table(df_sorted)"
   ]
  },
  {
   "cell_type": "code",
   "execution_count": 48,
   "metadata": {},
   "outputs": [
    {
     "data": {
      "text/plain": [
       "3.111"
      ]
     },
     "execution_count": 48,
     "metadata": {},
     "output_type": "execute_result"
    }
   ],
   "source": [
    "import numpy as np\n",
    "np.round(3.111117777, 3)"
   ]
  },
  {
   "cell_type": "code",
   "execution_count": null,
   "metadata": {},
   "outputs": [],
   "source": []
  }
 ],
 "metadata": {
  "kernelspec": {
   "display_name": "Python 3",
   "language": "python",
   "name": "python3"
  },
  "language_info": {
   "codemirror_mode": {
    "name": "ipython",
    "version": 3
   },
   "file_extension": ".py",
   "mimetype": "text/x-python",
   "name": "python",
   "nbconvert_exporter": "python",
   "pygments_lexer": "ipython3",
   "version": "3.10.14"
  }
 },
 "nbformat": 4,
 "nbformat_minor": 2
}
